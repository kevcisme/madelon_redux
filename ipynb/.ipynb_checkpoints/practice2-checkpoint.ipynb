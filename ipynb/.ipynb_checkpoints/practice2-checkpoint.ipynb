{
 "cells": [
  {
   "cell_type": "code",
   "execution_count": 1,
   "metadata": {
    "collapsed": true
   },
   "outputs": [],
   "source": [
    "from os import chdir\n",
    "chdir('/Users/mandymoody/DSI/projects/project_3/')\n",
    "\n",
    "%matplotlib inline"
   ]
  },
  {
   "cell_type": "code",
   "execution_count": 2,
   "metadata": {
    "collapsed": true
   },
   "outputs": [],
   "source": [
    "from lib import *"
   ]
  },
  {
   "cell_type": "code",
   "execution_count": 3,
   "metadata": {
    "collapsed": true
   },
   "outputs": [],
   "source": [
    "from sklearn.datasets import make_classification"
   ]
  },
  {
   "cell_type": "code",
   "execution_count": 4,
   "metadata": {
    "collapsed": true
   },
   "outputs": [],
   "source": [
    "import pandas as pd"
   ]
  },
  {
   "cell_type": "code",
   "execution_count": 5,
   "metadata": {
    "collapsed": false
   },
   "outputs": [],
   "source": [
    "test_df, target = make_classification(n_features=1000, n_informative=50, n_samples=1000)"
   ]
  },
  {
   "cell_type": "code",
   "execution_count": 6,
   "metadata": {
    "collapsed": false
   },
   "outputs": [],
   "source": [
    "test_df = pd.DataFrame(test_df)"
   ]
  },
  {
   "cell_type": "code",
   "execution_count": 7,
   "metadata": {
    "collapsed": false
   },
   "outputs": [
    {
     "data": {
      "text/html": [
       "<div>\n",
       "<table border=\"1\" class=\"dataframe\">\n",
       "  <thead>\n",
       "    <tr style=\"text-align: right;\">\n",
       "      <th></th>\n",
       "      <th>0</th>\n",
       "      <th>1</th>\n",
       "      <th>2</th>\n",
       "      <th>3</th>\n",
       "      <th>4</th>\n",
       "      <th>5</th>\n",
       "      <th>6</th>\n",
       "      <th>7</th>\n",
       "      <th>8</th>\n",
       "      <th>9</th>\n",
       "      <th>...</th>\n",
       "      <th>990</th>\n",
       "      <th>991</th>\n",
       "      <th>992</th>\n",
       "      <th>993</th>\n",
       "      <th>994</th>\n",
       "      <th>995</th>\n",
       "      <th>996</th>\n",
       "      <th>997</th>\n",
       "      <th>998</th>\n",
       "      <th>999</th>\n",
       "    </tr>\n",
       "  </thead>\n",
       "  <tbody>\n",
       "    <tr>\n",
       "      <th>0</th>\n",
       "      <td>2.547413</td>\n",
       "      <td>0.454271</td>\n",
       "      <td>0.339013</td>\n",
       "      <td>1.030835</td>\n",
       "      <td>0.383488</td>\n",
       "      <td>0.078738</td>\n",
       "      <td>0.913076</td>\n",
       "      <td>-0.368039</td>\n",
       "      <td>0.393757</td>\n",
       "      <td>0.415631</td>\n",
       "      <td>...</td>\n",
       "      <td>0.261649</td>\n",
       "      <td>1.240113</td>\n",
       "      <td>-0.596115</td>\n",
       "      <td>-0.869324</td>\n",
       "      <td>0.656057</td>\n",
       "      <td>0.195818</td>\n",
       "      <td>-1.311082</td>\n",
       "      <td>1.750490</td>\n",
       "      <td>-0.649406</td>\n",
       "      <td>-0.632477</td>\n",
       "    </tr>\n",
       "    <tr>\n",
       "      <th>1</th>\n",
       "      <td>-4.977978</td>\n",
       "      <td>-1.068447</td>\n",
       "      <td>-1.499107</td>\n",
       "      <td>0.709807</td>\n",
       "      <td>0.803372</td>\n",
       "      <td>-0.686098</td>\n",
       "      <td>-0.712531</td>\n",
       "      <td>1.454083</td>\n",
       "      <td>1.048651</td>\n",
       "      <td>0.382809</td>\n",
       "      <td>...</td>\n",
       "      <td>-1.122226</td>\n",
       "      <td>-1.048000</td>\n",
       "      <td>1.049848</td>\n",
       "      <td>-0.406300</td>\n",
       "      <td>1.280241</td>\n",
       "      <td>0.195158</td>\n",
       "      <td>-1.403672</td>\n",
       "      <td>-1.813241</td>\n",
       "      <td>2.536720</td>\n",
       "      <td>-0.467498</td>\n",
       "    </tr>\n",
       "  </tbody>\n",
       "</table>\n",
       "<p>2 rows × 1000 columns</p>\n",
       "</div>"
      ],
      "text/plain": [
       "        0         1         2         3         4         5         6    \\\n",
       "0  2.547413  0.454271  0.339013  1.030835  0.383488  0.078738  0.913076   \n",
       "1 -4.977978 -1.068447 -1.499107  0.709807  0.803372 -0.686098 -0.712531   \n",
       "\n",
       "        7         8         9      ...          990       991       992  \\\n",
       "0 -0.368039  0.393757  0.415631    ...     0.261649  1.240113 -0.596115   \n",
       "1  1.454083  1.048651  0.382809    ...    -1.122226 -1.048000  1.049848   \n",
       "\n",
       "        993       994       995       996       997       998       999  \n",
       "0 -0.869324  0.656057  0.195818 -1.311082  1.750490 -0.649406 -0.632477  \n",
       "1 -0.406300  1.280241  0.195158 -1.403672 -1.813241  2.536720 -0.467498  \n",
       "\n",
       "[2 rows x 1000 columns]"
      ]
     },
     "execution_count": 7,
     "metadata": {},
     "output_type": "execute_result"
    }
   ],
   "source": [
    "test_df.head(2)"
   ]
  },
  {
   "cell_type": "code",
   "execution_count": 8,
   "metadata": {
    "collapsed": false
   },
   "outputs": [],
   "source": [
    "target = pd.DataFrame(target)"
   ]
  },
  {
   "cell_type": "code",
   "execution_count": 9,
   "metadata": {
    "collapsed": false
   },
   "outputs": [],
   "source": [
    "import patsy\n",
    "\n",
    "from sklearn.linear_model import Ridge, LogisticRegression\n",
    "\n",
    "import matplotlib\n",
    "import matplotlib.pyplot as plt\n",
    "import seaborn as sns\n",
    "plt.style.use('fivethirtyeight')\n",
    "\n",
    "%config InlineBackend.figure_format = 'retina'\n",
    "%matplotlib inline"
   ]
  },
  {
   "cell_type": "code",
   "execution_count": 10,
   "metadata": {
    "collapsed": false
   },
   "outputs": [],
   "source": [
    "lr = LogisticRegression(C=1e10)"
   ]
  },
  {
   "cell_type": "code",
   "execution_count": 11,
   "metadata": {
    "collapsed": false
   },
   "outputs": [
    {
     "name": "stderr",
     "output_type": "stream",
     "text": [
      "/anaconda/lib/python3.6/site-packages/sklearn/utils/deprecation.py:70: DeprecationWarning: Function transform is deprecated; Support to use estimators as feature selectors will be removed in version 0.19. Use SelectFromModel instead.\n",
      "  warnings.warn(msg, category=DeprecationWarning)\n"
     ]
    },
    {
     "data": {
      "text/plain": [
       "array([[ 0.45427148,  0.33901283,  0.38348803, ..., -0.05066246,\n",
       "         0.65605674,  0.19581817],\n",
       "       [-1.06844718, -1.49910741,  0.80337227, ..., -0.30640539,\n",
       "         1.28024075,  0.19515839],\n",
       "       [ 1.34053732,  0.73997998,  0.42293037, ...,  0.67072585,\n",
       "         0.35802999,  0.07290871],\n",
       "       ..., \n",
       "       [ 0.55035654, -1.1447255 , -0.36551608, ...,  1.53893929,\n",
       "         0.21668465,  1.1513091 ],\n",
       "       [ 0.08179412,  0.72833167,  3.23380769, ...,  0.12291542,\n",
       "         0.33374989,  1.45489437],\n",
       "       [ 1.94937032,  0.8999733 ,  0.46052809, ...,  2.31297602,\n",
       "        -0.3701643 , -1.36339182]])"
      ]
     },
     "execution_count": 11,
     "metadata": {},
     "output_type": "execute_result"
    }
   ],
   "source": [
    "lr.fit_transform(test_df, (target.values.ravel()))"
   ]
  },
  {
   "cell_type": "code",
   "execution_count": 12,
   "metadata": {
    "collapsed": false
   },
   "outputs": [
    {
     "data": {
      "text/plain": [
       "1.0"
      ]
     },
     "execution_count": 12,
     "metadata": {},
     "output_type": "execute_result"
    }
   ],
   "source": [
    "lr.score(test_df, target)"
   ]
  },
  {
   "cell_type": "code",
   "execution_count": null,
   "metadata": {
    "collapsed": true
   },
   "outputs": [],
   "source": []
  },
  {
   "cell_type": "code",
   "execution_count": 1,
   "metadata": {
    "collapsed": true
   },
   "outputs": [],
   "source": [
    "import psycopg2\n",
    "from psycopg2.extras import RealDictCursor\n",
    "import pandas as pd"
   ]
  },
  {
   "cell_type": "code",
   "execution_count": 2,
   "metadata": {
    "collapsed": true
   },
   "outputs": [],
   "source": [
    "COUNT = 220000\n",
    "HOST = '54.200.77.93'\n",
    "PORT = '5432'\n",
    "DATABASE = 'postgres'\n",
    "PASSWORD = 'postgres'\n",
    "USER = 'postgres'\n",
    "SEED = 42"
   ]
  },
  {
   "cell_type": "code",
   "execution_count": 3,
   "metadata": {
    "collapsed": true
   },
   "outputs": [],
   "source": [
    "query = '''\n",
    "        SELECT * \n",
    "        FROM madelon_data_1\n",
    "        WHERE madelon_data_1.yoda in ({});\n",
    "        '''.format('0')"
   ]
  },
  {
   "cell_type": "code",
   "execution_count": 4,
   "metadata": {
    "collapsed": false
   },
   "outputs": [],
   "source": [
    "con = psycopg2.connect(database=DATABASE, port=PORT, user=USER, password=PASSWORD, host=HOST)\n",
    "cur = con.cursor(cursor_factory=RealDictCursor)\n",
    "cur.execute(query)\n",
    "result = cur.fetchall()\n",
    "con.close()"
   ]
  },
  {
   "cell_type": "code",
   "execution_count": 5,
   "metadata": {
    "collapsed": false
   },
   "outputs": [
    {
     "data": {
      "text/html": [
       "<div>\n",
       "<table border=\"1\" class=\"dataframe\">\n",
       "  <thead>\n",
       "    <tr style=\"text-align: right;\">\n",
       "      <th></th>\n",
       "      <th>feat_0000</th>\n",
       "      <th>feat_0001</th>\n",
       "      <th>feat_0002</th>\n",
       "      <th>feat_0003</th>\n",
       "      <th>feat_0004</th>\n",
       "      <th>feat_0005</th>\n",
       "      <th>feat_0006</th>\n",
       "      <th>feat_0007</th>\n",
       "      <th>feat_0008</th>\n",
       "      <th>feat_0009</th>\n",
       "      <th>...</th>\n",
       "      <th>feat_0615</th>\n",
       "      <th>feat_0616</th>\n",
       "      <th>feat_0617</th>\n",
       "      <th>feat_0618</th>\n",
       "      <th>feat_0619</th>\n",
       "      <th>feat_0620</th>\n",
       "      <th>feat_0621</th>\n",
       "      <th>feat_0622</th>\n",
       "      <th>feat_0623</th>\n",
       "      <th>feat_0624</th>\n",
       "    </tr>\n",
       "    <tr>\n",
       "      <th>yoda</th>\n",
       "      <th></th>\n",
       "      <th></th>\n",
       "      <th></th>\n",
       "      <th></th>\n",
       "      <th></th>\n",
       "      <th></th>\n",
       "      <th></th>\n",
       "      <th></th>\n",
       "      <th></th>\n",
       "      <th></th>\n",
       "      <th></th>\n",
       "      <th></th>\n",
       "      <th></th>\n",
       "      <th></th>\n",
       "      <th></th>\n",
       "      <th></th>\n",
       "      <th></th>\n",
       "      <th></th>\n",
       "      <th></th>\n",
       "      <th></th>\n",
       "      <th></th>\n",
       "    </tr>\n",
       "  </thead>\n",
       "  <tbody>\n",
       "    <tr>\n",
       "      <th>0</th>\n",
       "      <td>-6.89058</td>\n",
       "      <td>1.898045</td>\n",
       "      <td>-0.081773</td>\n",
       "      <td>-0.211159</td>\n",
       "      <td>-1.89961</td>\n",
       "      <td>0.602261</td>\n",
       "      <td>1.257378</td>\n",
       "      <td>1.106597</td>\n",
       "      <td>-0.911746</td>\n",
       "      <td>-0.378782</td>\n",
       "      <td>...</td>\n",
       "      <td>-0.549621</td>\n",
       "      <td>-0.482523</td>\n",
       "      <td>-0.308728</td>\n",
       "      <td>0.140235</td>\n",
       "      <td>-2.109784</td>\n",
       "      <td>0.712417</td>\n",
       "      <td>-1.693767</td>\n",
       "      <td>0.613437</td>\n",
       "      <td>0.114052</td>\n",
       "      <td>0.219454</td>\n",
       "    </tr>\n",
       "  </tbody>\n",
       "</table>\n",
       "<p>1 rows × 625 columns</p>\n",
       "</div>"
      ],
      "text/plain": [
       "      feat_0000  feat_0001  feat_0002  feat_0003  feat_0004  feat_0005  \\\n",
       "yoda                                                                     \n",
       "0      -6.89058   1.898045  -0.081773  -0.211159   -1.89961   0.602261   \n",
       "\n",
       "      feat_0006  feat_0007  feat_0008  feat_0009    ...      feat_0615  \\\n",
       "yoda                                                ...                  \n",
       "0      1.257378   1.106597  -0.911746  -0.378782    ...      -0.549621   \n",
       "\n",
       "      feat_0616  feat_0617  feat_0618  feat_0619  feat_0620  feat_0621  \\\n",
       "yoda                                                                     \n",
       "0     -0.482523  -0.308728   0.140235  -2.109784   0.712417  -1.693767   \n",
       "\n",
       "      feat_0622  feat_0623  feat_0624  \n",
       "yoda                                   \n",
       "0      0.613437   0.114052   0.219454  \n",
       "\n",
       "[1 rows x 625 columns]"
      ]
     },
     "execution_count": 5,
     "metadata": {},
     "output_type": "execute_result"
    }
   ],
   "source": [
    "pd.DataFrame(result).set_index('yoda')"
   ]
  },
  {
   "cell_type": "code",
   "execution_count": 6,
   "metadata": {
    "collapsed": true
   },
   "outputs": [],
   "source": [
    "def make_query(table_name, yoda_list):\n",
    "    yoda_list = ','.join([str(yoda) for yoda in yoda_list])\n",
    "    \n",
    "    query = '''\n",
    "            SELECT *\n",
    "            FROM {}\n",
    "            WHERE {}.yoda in ({});\n",
    "            '''.format(table_name, table_name, yoda_list)\n",
    "    return query"
   ]
  },
  {
   "cell_type": "code",
   "execution_count": 7,
   "metadata": {
    "collapsed": true
   },
   "outputs": [],
   "source": [
    "def query_table(table_name, yoda_list):\n",
    "    query = make_query(table_name, yoda_list)\n",
    "    con = psycopg2.connect(database=DATABASE, port=PORT, user=USER, password=PASSWORD, host=HOST)\n",
    "    cur = con.cursor(cursor_factory=RealDictCursor)\n",
    "    cur.execute(query)\n",
    "    result = cur.fetchall()\n",
    "    con.close()\n",
    "    return pd.DataFrame(result).set_index('yoda')"
   ]
  },
  {
   "cell_type": "code",
   "execution_count": 8,
   "metadata": {
    "collapsed": false
   },
   "outputs": [
    {
     "data": {
      "text/html": [
       "<div>\n",
       "<table border=\"1\" class=\"dataframe\">\n",
       "  <thead>\n",
       "    <tr style=\"text-align: right;\">\n",
       "      <th></th>\n",
       "      <th>feat_0000</th>\n",
       "      <th>feat_0001</th>\n",
       "      <th>feat_0002</th>\n",
       "      <th>feat_0003</th>\n",
       "      <th>feat_0004</th>\n",
       "      <th>feat_0005</th>\n",
       "      <th>feat_0006</th>\n",
       "      <th>feat_0007</th>\n",
       "      <th>feat_0008</th>\n",
       "      <th>feat_0009</th>\n",
       "      <th>...</th>\n",
       "      <th>feat_0615</th>\n",
       "      <th>feat_0616</th>\n",
       "      <th>feat_0617</th>\n",
       "      <th>feat_0618</th>\n",
       "      <th>feat_0619</th>\n",
       "      <th>feat_0620</th>\n",
       "      <th>feat_0621</th>\n",
       "      <th>feat_0622</th>\n",
       "      <th>feat_0623</th>\n",
       "      <th>feat_0624</th>\n",
       "    </tr>\n",
       "    <tr>\n",
       "      <th>yoda</th>\n",
       "      <th></th>\n",
       "      <th></th>\n",
       "      <th></th>\n",
       "      <th></th>\n",
       "      <th></th>\n",
       "      <th></th>\n",
       "      <th></th>\n",
       "      <th></th>\n",
       "      <th></th>\n",
       "      <th></th>\n",
       "      <th></th>\n",
       "      <th></th>\n",
       "      <th></th>\n",
       "      <th></th>\n",
       "      <th></th>\n",
       "      <th></th>\n",
       "      <th></th>\n",
       "      <th></th>\n",
       "      <th></th>\n",
       "      <th></th>\n",
       "      <th></th>\n",
       "    </tr>\n",
       "  </thead>\n",
       "  <tbody>\n",
       "    <tr>\n",
       "      <th>0</th>\n",
       "      <td>-6.890580</td>\n",
       "      <td>1.898045</td>\n",
       "      <td>-0.081773</td>\n",
       "      <td>-0.211159</td>\n",
       "      <td>-1.899610</td>\n",
       "      <td>0.602261</td>\n",
       "      <td>1.257378</td>\n",
       "      <td>1.106597</td>\n",
       "      <td>-0.911746</td>\n",
       "      <td>-0.378782</td>\n",
       "      <td>...</td>\n",
       "      <td>-0.549621</td>\n",
       "      <td>-0.482523</td>\n",
       "      <td>-0.308728</td>\n",
       "      <td>0.140235</td>\n",
       "      <td>-2.109784</td>\n",
       "      <td>0.712417</td>\n",
       "      <td>-1.693767</td>\n",
       "      <td>0.613437</td>\n",
       "      <td>0.114052</td>\n",
       "      <td>0.219454</td>\n",
       "    </tr>\n",
       "    <tr>\n",
       "      <th>1</th>\n",
       "      <td>2.836983</td>\n",
       "      <td>0.468780</td>\n",
       "      <td>-3.557848</td>\n",
       "      <td>0.253684</td>\n",
       "      <td>1.493863</td>\n",
       "      <td>-0.616160</td>\n",
       "      <td>0.006989</td>\n",
       "      <td>0.576280</td>\n",
       "      <td>-0.694593</td>\n",
       "      <td>1.965929</td>\n",
       "      <td>...</td>\n",
       "      <td>0.476782</td>\n",
       "      <td>0.087358</td>\n",
       "      <td>-0.715945</td>\n",
       "      <td>-0.955371</td>\n",
       "      <td>1.420939</td>\n",
       "      <td>0.606979</td>\n",
       "      <td>-1.607707</td>\n",
       "      <td>0.831395</td>\n",
       "      <td>-0.057999</td>\n",
       "      <td>1.848914</td>\n",
       "    </tr>\n",
       "    <tr>\n",
       "      <th>2</th>\n",
       "      <td>7.872049</td>\n",
       "      <td>-0.403441</td>\n",
       "      <td>-0.112700</td>\n",
       "      <td>1.381223</td>\n",
       "      <td>1.034884</td>\n",
       "      <td>0.902558</td>\n",
       "      <td>-0.788522</td>\n",
       "      <td>-0.135428</td>\n",
       "      <td>0.575735</td>\n",
       "      <td>-0.770869</td>\n",
       "      <td>...</td>\n",
       "      <td>-1.110917</td>\n",
       "      <td>-0.808714</td>\n",
       "      <td>-0.298813</td>\n",
       "      <td>-0.121191</td>\n",
       "      <td>-0.624334</td>\n",
       "      <td>-0.572492</td>\n",
       "      <td>2.302945</td>\n",
       "      <td>0.013287</td>\n",
       "      <td>-0.159020</td>\n",
       "      <td>0.213324</td>\n",
       "    </tr>\n",
       "  </tbody>\n",
       "</table>\n",
       "<p>3 rows × 625 columns</p>\n",
       "</div>"
      ],
      "text/plain": [
       "      feat_0000  feat_0001  feat_0002  feat_0003  feat_0004  feat_0005  \\\n",
       "yoda                                                                     \n",
       "0     -6.890580   1.898045  -0.081773  -0.211159  -1.899610   0.602261   \n",
       "1      2.836983   0.468780  -3.557848   0.253684   1.493863  -0.616160   \n",
       "2      7.872049  -0.403441  -0.112700   1.381223   1.034884   0.902558   \n",
       "\n",
       "      feat_0006  feat_0007  feat_0008  feat_0009    ...      feat_0615  \\\n",
       "yoda                                                ...                  \n",
       "0      1.257378   1.106597  -0.911746  -0.378782    ...      -0.549621   \n",
       "1      0.006989   0.576280  -0.694593   1.965929    ...       0.476782   \n",
       "2     -0.788522  -0.135428   0.575735  -0.770869    ...      -1.110917   \n",
       "\n",
       "      feat_0616  feat_0617  feat_0618  feat_0619  feat_0620  feat_0621  \\\n",
       "yoda                                                                     \n",
       "0     -0.482523  -0.308728   0.140235  -2.109784   0.712417  -1.693767   \n",
       "1      0.087358  -0.715945  -0.955371   1.420939   0.606979  -1.607707   \n",
       "2     -0.808714  -0.298813  -0.121191  -0.624334  -0.572492   2.302945   \n",
       "\n",
       "      feat_0622  feat_0623  feat_0624  \n",
       "yoda                                   \n",
       "0      0.613437   0.114052   0.219454  \n",
       "1      0.831395  -0.057999   1.848914  \n",
       "2      0.013287  -0.159020   0.213324  \n",
       "\n",
       "[3 rows x 625 columns]"
      ]
     },
     "execution_count": 8,
     "metadata": {},
     "output_type": "execute_result"
    }
   ],
   "source": [
    "query_table('madelon_data_1', [0,1,2])"
   ]
  },
  {
   "cell_type": "code",
   "execution_count": 9,
   "metadata": {
    "collapsed": false
   },
   "outputs": [
    {
     "data": {
      "text/plain": [
       "{1: 'madelon_data_1',\n",
       " 2: 'madelon_data_2',\n",
       " 3: 'madelon_data_3',\n",
       " 4: 'madelon_data_4',\n",
       " 5: 'madelon_data_5',\n",
       " 6: 'madelon_data_6',\n",
       " 7: 'madelon_data_7',\n",
       " 8: 'madelon_data_8'}"
      ]
     },
     "execution_count": 9,
     "metadata": {},
     "output_type": "execute_result"
    }
   ],
   "source": [
    "TABLES = {i:'madelon_data_{}'.format(i) for i in range(1,9)}\n",
    "TABLES"
   ]
  },
  {
   "cell_type": "code",
   "execution_count": 10,
   "metadata": {
    "collapsed": true
   },
   "outputs": [],
   "source": [
    "def get_data(yodas):\n",
    "    dfs = []\n",
    "    for table in range(1,9):\n",
    "        dfs.append(query_table(TABLES[table], yodas))\n",
    "        \n",
    "    merged = pd.concat(dfs, axis=1)\n",
    "    return merged"
   ]
  },
  {
   "cell_type": "code",
   "execution_count": 11,
   "metadata": {
    "collapsed": false
   },
   "outputs": [],
   "source": [
    "test = get_data([1,2,3])"
   ]
  },
  {
   "cell_type": "code",
   "execution_count": 12,
   "metadata": {
    "collapsed": false
   },
   "outputs": [
    {
     "data": {
      "text/html": [
       "<div>\n",
       "<table border=\"1\" class=\"dataframe\">\n",
       "  <thead>\n",
       "    <tr style=\"text-align: right;\">\n",
       "      <th></th>\n",
       "      <th>feat_0000</th>\n",
       "      <th>feat_0001</th>\n",
       "      <th>feat_0002</th>\n",
       "      <th>feat_0003</th>\n",
       "      <th>feat_0004</th>\n",
       "      <th>feat_0005</th>\n",
       "      <th>feat_0006</th>\n",
       "      <th>feat_0007</th>\n",
       "      <th>feat_0008</th>\n",
       "      <th>feat_0009</th>\n",
       "      <th>...</th>\n",
       "      <th>feat_4990</th>\n",
       "      <th>feat_4991</th>\n",
       "      <th>feat_4992</th>\n",
       "      <th>feat_4993</th>\n",
       "      <th>feat_4994</th>\n",
       "      <th>feat_4995</th>\n",
       "      <th>feat_4996</th>\n",
       "      <th>feat_4997</th>\n",
       "      <th>feat_4998</th>\n",
       "      <th>feat_4999</th>\n",
       "    </tr>\n",
       "    <tr>\n",
       "      <th>yoda</th>\n",
       "      <th></th>\n",
       "      <th></th>\n",
       "      <th></th>\n",
       "      <th></th>\n",
       "      <th></th>\n",
       "      <th></th>\n",
       "      <th></th>\n",
       "      <th></th>\n",
       "      <th></th>\n",
       "      <th></th>\n",
       "      <th></th>\n",
       "      <th></th>\n",
       "      <th></th>\n",
       "      <th></th>\n",
       "      <th></th>\n",
       "      <th></th>\n",
       "      <th></th>\n",
       "      <th></th>\n",
       "      <th></th>\n",
       "      <th></th>\n",
       "      <th></th>\n",
       "    </tr>\n",
       "  </thead>\n",
       "  <tbody>\n",
       "    <tr>\n",
       "      <th>1</th>\n",
       "      <td>2.836983</td>\n",
       "      <td>0.468780</td>\n",
       "      <td>-3.557848</td>\n",
       "      <td>0.253684</td>\n",
       "      <td>1.493863</td>\n",
       "      <td>-0.616160</td>\n",
       "      <td>0.006989</td>\n",
       "      <td>0.576280</td>\n",
       "      <td>-0.694593</td>\n",
       "      <td>1.965929</td>\n",
       "      <td>...</td>\n",
       "      <td>0.127546</td>\n",
       "      <td>-0.804609</td>\n",
       "      <td>1.053465</td>\n",
       "      <td>-1.142528</td>\n",
       "      <td>-0.850633</td>\n",
       "      <td>-0.456611</td>\n",
       "      <td>-1.368771</td>\n",
       "      <td>-0.121254</td>\n",
       "      <td>1.839091</td>\n",
       "      <td>-0.385779</td>\n",
       "    </tr>\n",
       "    <tr>\n",
       "      <th>2</th>\n",
       "      <td>7.872049</td>\n",
       "      <td>-0.403441</td>\n",
       "      <td>-0.112700</td>\n",
       "      <td>1.381223</td>\n",
       "      <td>1.034884</td>\n",
       "      <td>0.902558</td>\n",
       "      <td>-0.788522</td>\n",
       "      <td>-0.135428</td>\n",
       "      <td>0.575735</td>\n",
       "      <td>-0.770869</td>\n",
       "      <td>...</td>\n",
       "      <td>0.001346</td>\n",
       "      <td>0.511870</td>\n",
       "      <td>0.011579</td>\n",
       "      <td>-1.631434</td>\n",
       "      <td>0.199908</td>\n",
       "      <td>-1.075231</td>\n",
       "      <td>-1.192241</td>\n",
       "      <td>0.235938</td>\n",
       "      <td>-0.707320</td>\n",
       "      <td>-0.088669</td>\n",
       "    </tr>\n",
       "    <tr>\n",
       "      <th>3</th>\n",
       "      <td>-1.306599</td>\n",
       "      <td>-0.126873</td>\n",
       "      <td>-1.776510</td>\n",
       "      <td>0.430761</td>\n",
       "      <td>0.428714</td>\n",
       "      <td>0.579034</td>\n",
       "      <td>-0.057546</td>\n",
       "      <td>-0.021347</td>\n",
       "      <td>-0.112300</td>\n",
       "      <td>-0.417874</td>\n",
       "      <td>...</td>\n",
       "      <td>-0.969493</td>\n",
       "      <td>-0.486911</td>\n",
       "      <td>0.510224</td>\n",
       "      <td>-0.525300</td>\n",
       "      <td>1.433065</td>\n",
       "      <td>0.514432</td>\n",
       "      <td>-0.874046</td>\n",
       "      <td>0.740881</td>\n",
       "      <td>0.551109</td>\n",
       "      <td>-0.955274</td>\n",
       "    </tr>\n",
       "  </tbody>\n",
       "</table>\n",
       "<p>3 rows × 5000 columns</p>\n",
       "</div>"
      ],
      "text/plain": [
       "      feat_0000  feat_0001  feat_0002  feat_0003  feat_0004  feat_0005  \\\n",
       "yoda                                                                     \n",
       "1      2.836983   0.468780  -3.557848   0.253684   1.493863  -0.616160   \n",
       "2      7.872049  -0.403441  -0.112700   1.381223   1.034884   0.902558   \n",
       "3     -1.306599  -0.126873  -1.776510   0.430761   0.428714   0.579034   \n",
       "\n",
       "      feat_0006  feat_0007  feat_0008  feat_0009    ...      feat_4990  \\\n",
       "yoda                                                ...                  \n",
       "1      0.006989   0.576280  -0.694593   1.965929    ...       0.127546   \n",
       "2     -0.788522  -0.135428   0.575735  -0.770869    ...       0.001346   \n",
       "3     -0.057546  -0.021347  -0.112300  -0.417874    ...      -0.969493   \n",
       "\n",
       "      feat_4991  feat_4992  feat_4993  feat_4994  feat_4995  feat_4996  \\\n",
       "yoda                                                                     \n",
       "1     -0.804609   1.053465  -1.142528  -0.850633  -0.456611  -1.368771   \n",
       "2      0.511870   0.011579  -1.631434   0.199908  -1.075231  -1.192241   \n",
       "3     -0.486911   0.510224  -0.525300   1.433065   0.514432  -0.874046   \n",
       "\n",
       "      feat_4997  feat_4998  feat_4999  \n",
       "yoda                                   \n",
       "1     -0.121254   1.839091  -0.385779  \n",
       "2      0.235938  -0.707320  -0.088669  \n",
       "3      0.740881   0.551109  -0.955274  \n",
       "\n",
       "[3 rows x 5000 columns]"
      ]
     },
     "execution_count": 12,
     "metadata": {},
     "output_type": "execute_result"
    }
   ],
   "source": [
    "test"
   ]
  },
  {
   "cell_type": "code",
   "execution_count": 49,
   "metadata": {
    "collapsed": false
   },
   "outputs": [],
   "source": [
    "class project3tool(object):\n",
    "    \n",
    "    def __init__(self,\n",
    "                COUNT = 220000,\n",
    "                HOST = '54.200.77.93',\n",
    "                PORT = '5432',\n",
    "                DATABASE = 'postgres',\n",
    "                PASSWORD = 'postgres',\n",
    "                USER = 'postgres',\n",
    "                SEED = 42):\n",
    "        \n",
    "        self.COUNT = COUNT\n",
    "        self.HOST = HOST\n",
    "        self.PORT = PORT\n",
    "        self.DATABASE = DATABASE\n",
    "        self.PASSWORD = PASSWORD\n",
    "        self.USER = USER\n",
    "        self.SEED = SEED\n",
    "        self.TABLES = {i:'madelon_data_{}'.format(i) for i in range(1,9)}\n",
    "        self.POSITION = 0\n",
    "        \n",
    "    def make_query(self, table_name, yoda_list):\n",
    "        \n",
    "        yoda_list = ','.join([str(yoda) for yoda in yoda_list])\n",
    "        \n",
    "        query = '''\n",
    "                SELECT *\n",
    "                FROM {}\n",
    "                WHERE {}.yoda in ({});\n",
    "                '''.format(table_name, table_name, yoda_list)\n",
    "        return query    \n",
    "       \n",
    "    def query_table(self, table_name, yoda_list):\n",
    "        \n",
    "        query = self.make_query(table_name, yoda_list)\n",
    "        con = psycopg2.connect(database=self.DATABASE, \n",
    "                               port=self.PORT, \n",
    "                               user=self.USER, \n",
    "                               password=self.PASSWORD, \n",
    "                               host=self.HOST)\n",
    "        cur = con.cursor(cursor_factory=RealDictCursor)\n",
    "        cur.execute(query)\n",
    "        result = cur.fetchall()\n",
    "        con.close()\n",
    "        \n",
    "        return pd.DataFrame(result).set_index('yoda')  \n",
    "    \n",
    "    def get_data(self, yodas):\n",
    "       \n",
    "        dfs = []\n",
    "        for table in range(1,9):\n",
    "            dfs.append(self.query_table(self.TABLES[table], yodas))\n",
    "            \n",
    "        merged = pd.concat(dfs, axis=1)\n",
    "        \n",
    "        target = self.query_table('madelon_target', yodas)\n",
    "        \n",
    "        return merged, target\n",
    "    \n",
    "    def load_sequential(self, n = 100, position = None):\n",
    "        \n",
    "        if not position:\n",
    "            pos = self.POSITION\n",
    "        else:\n",
    "            pos = position\n",
    "        \n",
    "        data, target = self.get_data(range(pos, pos+n))\n",
    "        if not position: \n",
    "            self.POSITION += n\n",
    "        return data, target\n",
    "    \n",
    "    def reset_position(self):\n",
    "        self.POSITION =0"
   ]
  },
  {
   "cell_type": "code",
   "execution_count": 50,
   "metadata": {
    "collapsed": false
   },
   "outputs": [],
   "source": [
    "p = project3tool"
   ]
  },
  {
   "cell_type": "code",
   "execution_count": 51,
   "metadata": {
    "collapsed": false
   },
   "outputs": [
    {
     "ename": "AttributeError",
     "evalue": "'list' object has no attribute 'POSITION'",
     "output_type": "error",
     "traceback": [
      "\u001b[0;31m-----------------------------------------------------------------\u001b[0m",
      "\u001b[0;31mAttributeError\u001b[0m                  Traceback (most recent call last)",
      "\u001b[0;32m<ipython-input-51-37fa1e50862c>\u001b[0m in \u001b[0;36m<module>\u001b[0;34m()\u001b[0m\n\u001b[0;32m----> 1\u001b[0;31m \u001b[0mp\u001b[0m\u001b[0;34m.\u001b[0m\u001b[0mload_sequential\u001b[0m\u001b[0;34m(\u001b[0m\u001b[0;34m[\u001b[0m\u001b[0;36m1\u001b[0m\u001b[0;34m,\u001b[0m\u001b[0;36m2\u001b[0m\u001b[0;34m,\u001b[0m\u001b[0;36m3\u001b[0m\u001b[0;34m]\u001b[0m\u001b[0;34m)\u001b[0m\u001b[0;34m\u001b[0m\u001b[0m\n\u001b[0m",
      "\u001b[0;32m<ipython-input-49-55cbc8ac4ef5>\u001b[0m in \u001b[0;36mload_sequential\u001b[0;34m(self, n, position)\u001b[0m\n\u001b[1;32m     62\u001b[0m \u001b[0;34m\u001b[0m\u001b[0m\n\u001b[1;32m     63\u001b[0m         \u001b[0;32mif\u001b[0m \u001b[0;32mnot\u001b[0m \u001b[0mposition\u001b[0m\u001b[0;34m:\u001b[0m\u001b[0;34m\u001b[0m\u001b[0m\n\u001b[0;32m---> 64\u001b[0;31m             \u001b[0mpos\u001b[0m \u001b[0;34m=\u001b[0m \u001b[0mself\u001b[0m\u001b[0;34m.\u001b[0m\u001b[0mPOSITION\u001b[0m\u001b[0;34m\u001b[0m\u001b[0m\n\u001b[0m\u001b[1;32m     65\u001b[0m         \u001b[0;32melse\u001b[0m\u001b[0;34m:\u001b[0m\u001b[0;34m\u001b[0m\u001b[0m\n\u001b[1;32m     66\u001b[0m             \u001b[0mpos\u001b[0m \u001b[0;34m=\u001b[0m \u001b[0mposition\u001b[0m\u001b[0;34m\u001b[0m\u001b[0m\n",
      "\u001b[0;31mAttributeError\u001b[0m: 'list' object has no attribute 'POSITION'"
     ]
    }
   ],
   "source": [
    "p.load_sequential([1,2,3])"
   ]
  },
  {
   "cell_type": "code",
   "execution_count": 33,
   "metadata": {
    "collapsed": true
   },
   "outputs": [],
   "source": [
    "from sklearn.preprocessing import StandardScaler"
   ]
  },
  {
   "cell_type": "code",
   "execution_count": 34,
   "metadata": {
    "collapsed": true
   },
   "outputs": [],
   "source": [
    "scaler = StandardScaler()"
   ]
  },
  {
   "cell_type": "code",
   "execution_count": 42,
   "metadata": {
    "collapsed": false
   },
   "outputs": [
    {
     "ename": "AttributeError",
     "evalue": "type object 'project3tool' has no attribute 'POSITION'",
     "output_type": "error",
     "traceback": [
      "\u001b[0;31m-----------------------------------------------------------------\u001b[0m",
      "\u001b[0;31mAttributeError\u001b[0m                  Traceback (most recent call last)",
      "\u001b[0;32m<ipython-input-42-133b2aa8a247>\u001b[0m in \u001b[0;36m<module>\u001b[0;34m()\u001b[0m\n\u001b[0;32m----> 1\u001b[0;31m \u001b[0;32mwhile\u001b[0m \u001b[0mp\u001b[0m\u001b[0;34m.\u001b[0m\u001b[0mPOSITION\u001b[0m \u001b[0;34m<\u001b[0m \u001b[0;36m1000\u001b[0m\u001b[0;34m:\u001b[0m\u001b[0;34m\u001b[0m\u001b[0m\n\u001b[0m\u001b[1;32m      2\u001b[0m     \u001b[0mdata\u001b[0m\u001b[0;34m,\u001b[0m \u001b[0mtarget\u001b[0m \u001b[0;34m=\u001b[0m \u001b[0mp\u001b[0m\u001b[0;34m.\u001b[0m\u001b[0mload_sequential\u001b[0m\u001b[0;34m(\u001b[0m\u001b[0;34m)\u001b[0m\u001b[0;34m\u001b[0m\u001b[0m\n\u001b[1;32m      3\u001b[0m     \u001b[0mscaler\u001b[0m\u001b[0;34m.\u001b[0m\u001b[0mpartial_fit\u001b[0m\u001b[0;34m(\u001b[0m\u001b[0mdata\u001b[0m\u001b[0;34m)\u001b[0m\u001b[0;34m\u001b[0m\u001b[0m\n\u001b[1;32m      4\u001b[0m     \u001b[0mprint\u001b[0m\u001b[0;34m(\u001b[0m\u001b[0mp\u001b[0m\u001b[0;34m.\u001b[0m\u001b[0mPOSITION\u001b[0m\u001b[0;34m)\u001b[0m\u001b[0;34m\u001b[0m\u001b[0m\n",
      "\u001b[0;31mAttributeError\u001b[0m: type object 'project3tool' has no attribute 'POSITION'"
     ]
    }
   ],
   "source": [
    "while p.POSITION < 1000:\n",
    "    data, target = p.load_sequential()\n",
    "    scaler.partial_fit(data)\n",
    "    print(p.POSITION)"
   ]
  },
  {
   "cell_type": "code",
   "execution_count": 46,
   "metadata": {
    "collapsed": false
   },
   "outputs": [
    {
     "ename": "TypeError",
     "evalue": "reset_position() missing 1 required positional argument: 'self'",
     "output_type": "error",
     "traceback": [
      "\u001b[0;31m-----------------------------------------------------------------\u001b[0m",
      "\u001b[0;31mTypeError\u001b[0m                       Traceback (most recent call last)",
      "\u001b[0;32m<ipython-input-46-ecdf740e31e9>\u001b[0m in \u001b[0;36m<module>\u001b[0;34m()\u001b[0m\n\u001b[0;32m----> 1\u001b[0;31m \u001b[0mp\u001b[0m\u001b[0;34m.\u001b[0m\u001b[0mreset_position\u001b[0m\u001b[0;34m(\u001b[0m\u001b[0;34m)\u001b[0m\u001b[0;34m\u001b[0m\u001b[0m\n\u001b[0m",
      "\u001b[0;31mTypeError\u001b[0m: reset_position() missing 1 required positional argument: 'self'"
     ]
    }
   ],
   "source": [
    "p.reset_position()"
   ]
  },
  {
   "cell_type": "code",
   "execution_count": 48,
   "metadata": {
    "collapsed": true
   },
   "outputs": [],
   "source": [
    "from sklearn.decomposition import IncrementalPCA"
   ]
  },
  {
   "cell_type": "code",
   "execution_count": 13,
   "metadata": {
    "collapsed": true
   },
   "outputs": [],
   "source": [
    "lr = LogisticRegression(penalty='11', C=20, warm_start=True)"
   ]
  },
  {
   "cell_type": "code",
   "execution_count": null,
   "metadata": {
    "collapsed": true
   },
   "outputs": [],
   "source": [
    "while p.POSITION < 1000:\n",
    "    data, target = p.load_sequential()\n",
    "    lr.fit(data, target.values.ravel())\n",
    "    print(p.POSITION)"
   ]
  },
  {
   "cell_type": "code",
   "execution_count": null,
   "metadata": {
    "collapsed": true
   },
   "outputs": [],
   "source": [
    "lr.coef_[abs(lr.coef_) > 0].shape"
   ]
  },
  {
   "cell_type": "code",
   "execution_count": null,
   "metadata": {
    "collapsed": true
   },
   "outputs": [],
   "source": [
    "lr.coef_[0]"
   ]
  },
  {
   "cell_type": "code",
   "execution_count": null,
   "metadata": {
    "collapsed": true
   },
   "outputs": [],
   "source": [
    "lrcoefs = list(zip(data.columns), )"
   ]
  },
  {
   "cell_type": "code",
   "execution_count": null,
   "metadata": {
    "collapsed": true
   },
   "outputs": [],
   "source": [
    "from lib.p3tool"
   ]
  },
  {
   "cell_type": "code",
   "execution_count": null,
   "metadata": {
    "collapsed": true
   },
   "outputs": [],
   "source": []
  },
  {
   "cell_type": "code",
   "execution_count": null,
   "metadata": {
    "collapsed": true
   },
   "outputs": [],
   "source": []
  },
  {
   "cell_type": "code",
   "execution_count": null,
   "metadata": {
    "collapsed": true
   },
   "outputs": [],
   "source": []
  },
  {
   "cell_type": "code",
   "execution_count": null,
   "metadata": {
    "collapsed": true
   },
   "outputs": [],
   "source": []
  },
  {
   "cell_type": "code",
   "execution_count": null,
   "metadata": {
    "collapsed": true
   },
   "outputs": [],
   "source": []
  }
 ],
 "metadata": {
  "kernelspec": {
   "display_name": "Python 3",
   "language": "python",
   "name": "python3"
  },
  "language_info": {
   "codemirror_mode": {
    "name": "ipython",
    "version": 3
   },
   "file_extension": ".py",
   "mimetype": "text/x-python",
   "name": "python",
   "nbconvert_exporter": "python",
   "pygments_lexer": "ipython3",
   "version": "3.6.0"
  }
 },
 "nbformat": 4,
 "nbformat_minor": 2
}
