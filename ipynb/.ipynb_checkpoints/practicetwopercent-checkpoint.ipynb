{
 "cells": [
  {
   "cell_type": "markdown",
   "metadata": {
    "collapsed": true
   },
   "source": [
    "## Two Percent Milk\n",
    "\n",
    "For the following models, I used a dataset of 5,000 rows, and 5,000 columns. This is equivalent to 2% (one percent) of my initial dataset of 220,000 rows and 5,000 columns."
   ]
  },
  {
   "cell_type": "code",
   "execution_count": 3,
   "metadata": {
    "collapsed": true
   },
   "outputs": [],
   "source": [
    "from os import chdir\n",
    "chdir('/Users/mandymoody/DSI/projects/project_3')\n",
    "\n",
    "%matplotlib inline\n",
    "\n",
    "from lib import *"
   ]
  },
  {
   "cell_type": "code",
   "execution_count": 13,
   "metadata": {
    "collapsed": true
   },
   "outputs": [],
   "source": [
    "from datetime import datetime\n",
    "from IPython.display import display\n",
    "from sklearn.decomposition import PCA \n",
    "from sklearn.ensemble import RandomForestClassifier, ExtraTreesClassifier \n",
    "from sklearn.feature_selection import SelectKBest, SelectFromModel, f_classif\n",
    "from sklearn.linear_model import LogisticRegression, Lasso\n",
    "from sklearn.model_selection import GridSearchCV, ShuffleSplit\n",
    "from sklearn.neighbors import KNeighborsClassifier\n",
    "from sklearn.pipeline import Pipeline\n",
    "from scipy import stats, mean "
   ]
  },
  {
   "cell_type": "markdown",
   "metadata": {},
   "source": [
    "### Load in the Data"
   ]
  },
  {
   "cell_type": "code",
   "execution_count": 6,
   "metadata": {
    "collapsed": false
   },
   "outputs": [],
   "source": [
    "feat5000_df = pd.read_pickle('5000feature_df.p')\n",
    "target5000_df = pd.read_pickle('5000target_df.p')"
   ]
  },
  {
   "cell_type": "markdown",
   "metadata": {},
   "source": [
    "### Run the first model on the 2% set"
   ]
  },
  {
   "cell_type": "code",
   "execution_count": 7,
   "metadata": {
    "collapsed": true
   },
   "outputs": [],
   "source": [
    "X = feat5000_df.values\n",
    "y = target5000_df.values"
   ]
  },
  {
   "cell_type": "code",
   "execution_count": 8,
   "metadata": {
    "collapsed": false
   },
   "outputs": [
    {
     "data": {
      "text/plain": [
       "SelectFromModel(estimator=RandomForestRegressor(bootstrap=True, criterion='mse', max_depth=None,\n",
       "           max_features='auto', max_leaf_nodes=None,\n",
       "           min_impurity_split=1e-07, min_samples_leaf=1,\n",
       "           min_samples_split=2, min_weight_fraction_leaf=0.0,\n",
       "           n_estimators=100, n_jobs=-1, oob_score=False, random_state=42,\n",
       "           verbose=0, warm_start=False),\n",
       "        prefit=False, threshold=None)"
      ]
     },
     "execution_count": 8,
     "metadata": {},
     "output_type": "execute_result"
    }
   ],
   "source": [
    "model_4 = SelectFromModel(RandomForestRegressor(n_estimators=100, \n",
    "                                                random_state=42,\n",
    "                                                n_jobs=-1))\n",
    "model_4.fit(X, y.ravel())"
   ]
  },
  {
   "cell_type": "code",
   "execution_count": 9,
   "metadata": {
    "collapsed": true
   },
   "outputs": [],
   "source": [
    "feat_list_sfm = list(zip(feat5000_df.columns, model_4.get_support()))\n",
    "feat_list_sfm.sort(key=lambda x: x[1], reverse=True)\n",
    "mode4_1sfm = pd.DataFrame(feat_list_sfm, columns=['Feature','support'])"
   ]
  },
  {
   "cell_type": "code",
   "execution_count": 10,
   "metadata": {
    "collapsed": true
   },
   "outputs": [],
   "source": [
    "rf_feat_list = list(zip(feat5000_df.columns, model_4.estimator_.feature_importances_))\n",
    "rf_feat_list.sort(key=lambda x: x[1], reverse=True)\n",
    "model_4rf = pd.DataFrame(rf_feat_list, columns=['feature','importance'])"
   ]
  },
  {
   "cell_type": "code",
   "execution_count": 12,
   "metadata": {
    "collapsed": false
   },
   "outputs": [
    {
     "data": {
      "text/html": [
       "<div>\n",
       "<table border=\"1\" class=\"dataframe\">\n",
       "  <thead>\n",
       "    <tr style=\"text-align: right;\">\n",
       "      <th></th>\n",
       "      <th>0</th>\n",
       "      <th>1</th>\n",
       "      <th>2</th>\n",
       "      <th>3</th>\n",
       "      <th>4</th>\n",
       "      <th>5</th>\n",
       "      <th>6</th>\n",
       "      <th>7</th>\n",
       "      <th>8</th>\n",
       "      <th>9</th>\n",
       "    </tr>\n",
       "  </thead>\n",
       "  <tbody>\n",
       "    <tr>\n",
       "      <th>feature</th>\n",
       "      <td>feat_4708</td>\n",
       "      <td>feat_4260</td>\n",
       "      <td>feat_4129</td>\n",
       "      <td>feat_3697</td>\n",
       "      <td>feat_3126</td>\n",
       "      <td>feat_0163</td>\n",
       "      <td>feat_1449</td>\n",
       "      <td>feat_3320</td>\n",
       "      <td>feat_0356</td>\n",
       "      <td>feat_1156</td>\n",
       "    </tr>\n",
       "    <tr>\n",
       "      <th>importance</th>\n",
       "      <td>0.0017846</td>\n",
       "      <td>0.00163012</td>\n",
       "      <td>0.00109469</td>\n",
       "      <td>0.000903359</td>\n",
       "      <td>0.000902142</td>\n",
       "      <td>0.000882994</td>\n",
       "      <td>0.000847963</td>\n",
       "      <td>0.00083025</td>\n",
       "      <td>0.000677646</td>\n",
       "      <td>0.000673009</td>\n",
       "    </tr>\n",
       "  </tbody>\n",
       "</table>\n",
       "</div>"
      ],
      "text/plain": [
       "                    0           1           2            3            4  \\\n",
       "feature     feat_4708   feat_4260   feat_4129    feat_3697    feat_3126   \n",
       "importance  0.0017846  0.00163012  0.00109469  0.000903359  0.000902142   \n",
       "\n",
       "                      5            6           7            8            9  \n",
       "feature       feat_0163    feat_1449   feat_3320    feat_0356    feat_1156  \n",
       "importance  0.000882994  0.000847963  0.00083025  0.000677646  0.000673009  "
      ]
     },
     "execution_count": 12,
     "metadata": {},
     "output_type": "execute_result"
    }
   ],
   "source": [
    "model_4rf.head(10).T"
   ]
  },
  {
   "cell_type": "code",
   "execution_count": null,
   "metadata": {
    "collapsed": true
   },
   "outputs": [],
   "source": []
  }
 ],
 "metadata": {
  "kernelspec": {
   "display_name": "Python 3",
   "language": "python",
   "name": "python3"
  },
  "language_info": {
   "codemirror_mode": {
    "name": "ipython",
    "version": 3
   },
   "file_extension": ".py",
   "mimetype": "text/x-python",
   "name": "python",
   "nbconvert_exporter": "python",
   "pygments_lexer": "ipython3",
   "version": "3.6.0"
  }
 },
 "nbformat": 4,
 "nbformat_minor": 2
}
