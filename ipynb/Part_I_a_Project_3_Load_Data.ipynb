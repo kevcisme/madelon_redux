{
 "cells": [
  {
   "cell_type": "code",
   "execution_count": 25,
   "metadata": {
    "collapsed": true,
    "slideshow": {
     "slide_type": "skip"
    }
   },
   "outputs": [],
   "source": [
    "from os import chdir\n",
    "chdir('/Users/mandymoody/DSI/projects/project_3/')\n",
    "\n",
    "%matplotlib inline\n",
    "\n",
    "from lib import *"
   ]
  },
  {
   "cell_type": "markdown",
   "metadata": {
    "slideshow": {
     "slide_type": "slide"
    }
   },
   "source": [
    "## Load 2,200 Rows"
   ]
  },
  {
   "cell_type": "code",
   "execution_count": 33,
   "metadata": {
    "collapsed": false,
    "slideshow": {
     "slide_type": "slide"
    }
   },
   "outputs": [],
   "source": [
    "feat, tar = make_dataframes(count=2200, n=2200, seed=None)"
   ]
  },
  {
   "cell_type": "code",
   "execution_count": 31,
   "metadata": {
    "collapsed": false,
    "slideshow": {
     "slide_type": "skip"
    }
   },
   "outputs": [
    {
     "data": {
      "text/html": [
       "<div>\n",
       "<table border=\"1\" class=\"dataframe\">\n",
       "  <thead>\n",
       "    <tr style=\"text-align: right;\">\n",
       "      <th></th>\n",
       "      <th>feat_0000</th>\n",
       "      <th>feat_0001</th>\n",
       "      <th>feat_0002</th>\n",
       "      <th>feat_0003</th>\n",
       "      <th>feat_0004</th>\n",
       "      <th>feat_0005</th>\n",
       "      <th>feat_0006</th>\n",
       "      <th>feat_0007</th>\n",
       "      <th>feat_0008</th>\n",
       "      <th>feat_0009</th>\n",
       "      <th>...</th>\n",
       "      <th>feat_0616</th>\n",
       "      <th>feat_0617</th>\n",
       "      <th>feat_0618</th>\n",
       "      <th>feat_0619</th>\n",
       "      <th>feat_0620</th>\n",
       "      <th>feat_0621</th>\n",
       "      <th>feat_0622</th>\n",
       "      <th>feat_0623</th>\n",
       "      <th>feat_0624</th>\n",
       "      <th>yoda</th>\n",
       "    </tr>\n",
       "  </thead>\n",
       "  <tbody>\n",
       "    <tr>\n",
       "      <th>0</th>\n",
       "      <td>0.27464</td>\n",
       "      <td>0.920072</td>\n",
       "      <td>-0.466942</td>\n",
       "      <td>1.01008</td>\n",
       "      <td>-1.035016</td>\n",
       "      <td>-0.663604</td>\n",
       "      <td>0.199836</td>\n",
       "      <td>-0.825088</td>\n",
       "      <td>-0.022423</td>\n",
       "      <td>0.095568</td>\n",
       "      <td>...</td>\n",
       "      <td>-0.506848</td>\n",
       "      <td>-0.169859</td>\n",
       "      <td>0.412251</td>\n",
       "      <td>-0.075889</td>\n",
       "      <td>-1.363161</td>\n",
       "      <td>-1.427936</td>\n",
       "      <td>0.311629</td>\n",
       "      <td>-0.519703</td>\n",
       "      <td>-0.420634</td>\n",
       "      <td>7232</td>\n",
       "    </tr>\n",
       "  </tbody>\n",
       "</table>\n",
       "<p>1 rows × 626 columns</p>\n",
       "</div>"
      ],
      "text/plain": [
       "   feat_0000  feat_0001  feat_0002  feat_0003  feat_0004  feat_0005  \\\n",
       "0    0.27464   0.920072  -0.466942    1.01008  -1.035016  -0.663604   \n",
       "\n",
       "   feat_0006  feat_0007  feat_0008  feat_0009  ...   feat_0616  feat_0617  \\\n",
       "0   0.199836  -0.825088  -0.022423   0.095568  ...   -0.506848  -0.169859   \n",
       "\n",
       "   feat_0618  feat_0619  feat_0620  feat_0621  feat_0622  feat_0623  \\\n",
       "0   0.412251  -0.075889  -1.363161  -1.427936   0.311629  -0.519703   \n",
       "\n",
       "   feat_0624  yoda  \n",
       "0  -0.420634  7232  \n",
       "\n",
       "[1 rows x 626 columns]"
      ]
     },
     "execution_count": 31,
     "metadata": {},
     "output_type": "execute_result"
    }
   ],
   "source": [
    "query_verification()"
   ]
  },
  {
   "cell_type": "code",
   "execution_count": 34,
   "metadata": {
    "collapsed": false
   },
   "outputs": [
    {
     "data": {
      "text/plain": [
       "((2200, 5000), (2200, 1))"
      ]
     },
     "execution_count": 34,
     "metadata": {},
     "output_type": "execute_result"
    }
   ],
   "source": [
    "feat.shape, tar.shape"
   ]
  },
  {
   "cell_type": "code",
   "execution_count": 28,
   "metadata": {
    "collapsed": false
   },
   "outputs": [],
   "source": [
    "feat_df_2200 = pd.DataFrame(feat)"
   ]
  },
  {
   "cell_type": "code",
   "execution_count": 29,
   "metadata": {
    "collapsed": false
   },
   "outputs": [],
   "source": [
    "target_df_2200 = pd.DataFrame(tar)"
   ]
  },
  {
   "cell_type": "code",
   "execution_count": 18,
   "metadata": {
    "collapsed": true
   },
   "outputs": [],
   "source": [
    "feat_df_2200.to_pickle('2200feature_df.p')"
   ]
  },
  {
   "cell_type": "code",
   "execution_count": 24,
   "metadata": {
    "collapsed": true
   },
   "outputs": [],
   "source": [
    "target_df_2200.to_pickle('2200target_df.p')"
   ]
  },
  {
   "cell_type": "markdown",
   "metadata": {},
   "source": [
    "## Load 5,000 Rows"
   ]
  },
  {
   "cell_type": "code",
   "execution_count": 20,
   "metadata": {
    "collapsed": false
   },
   "outputs": [],
   "source": [
    "feat, tar = make_dataframes(count=5000, n=5000, seed=None)"
   ]
  },
  {
   "cell_type": "code",
   "execution_count": 21,
   "metadata": {
    "collapsed": false
   },
   "outputs": [
    {
     "data": {
      "text/plain": [
       "((5000, 5000), (5000, 1))"
      ]
     },
     "execution_count": 21,
     "metadata": {},
     "output_type": "execute_result"
    }
   ],
   "source": [
    "feat.shape, tar.shape"
   ]
  },
  {
   "cell_type": "code",
   "execution_count": 22,
   "metadata": {
    "collapsed": false
   },
   "outputs": [],
   "source": [
    "feat_df_5000 = pd.DataFrame(feat)"
   ]
  },
  {
   "cell_type": "code",
   "execution_count": 22,
   "metadata": {
    "collapsed": false
   },
   "outputs": [],
   "source": [
    "target_df_5000 = pd.DataFrame(tar)"
   ]
  },
  {
   "cell_type": "code",
   "execution_count": 18,
   "metadata": {
    "collapsed": true
   },
   "outputs": [],
   "source": [
    "feat_df_5000.to_pickle('5000feature_df.p')"
   ]
  },
  {
   "cell_type": "code",
   "execution_count": 24,
   "metadata": {
    "collapsed": true
   },
   "outputs": [],
   "source": [
    "target_df_5000.to_pickle('5000target_df.p')"
   ]
  },
  {
   "cell_type": "markdown",
   "metadata": {},
   "source": [
    "## Load 22,000 Rows"
   ]
  },
  {
   "cell_type": "code",
   "execution_count": 20,
   "metadata": {
    "collapsed": false
   },
   "outputs": [],
   "source": [
    "feat, tar = make_dataframes(count=22000, n=22000, seed=None)"
   ]
  },
  {
   "cell_type": "code",
   "execution_count": 26,
   "metadata": {
    "collapsed": false
   },
   "outputs": [],
   "source": [
    "feat_df_22000 = pd.DataFrame(feat)"
   ]
  },
  {
   "cell_type": "code",
   "execution_count": 27,
   "metadata": {
    "collapsed": false
   },
   "outputs": [],
   "source": [
    "target_df_22000 = pd.DataFrame(tar)"
   ]
  },
  {
   "cell_type": "code",
   "execution_count": 18,
   "metadata": {
    "collapsed": true
   },
   "outputs": [],
   "source": [
    "feat_df_22000.to_pickle('22000feature_df.p')"
   ]
  },
  {
   "cell_type": "code",
   "execution_count": 24,
   "metadata": {
    "collapsed": true
   },
   "outputs": [],
   "source": [
    "target_df_22000.to_pickle('22000target_df.p')"
   ]
  },
  {
   "cell_type": "code",
   "execution_count": 9,
   "metadata": {
    "collapsed": false
   },
   "outputs": [
    {
     "data": {
      "text/html": [
       "<div>\n",
       "<table border=\"1\" class=\"dataframe\">\n",
       "  <thead>\n",
       "    <tr style=\"text-align: right;\">\n",
       "      <th></th>\n",
       "      <th>feat_0000</th>\n",
       "      <th>feat_0001</th>\n",
       "      <th>feat_0002</th>\n",
       "      <th>feat_0003</th>\n",
       "      <th>feat_0004</th>\n",
       "      <th>feat_0005</th>\n",
       "      <th>feat_0006</th>\n",
       "      <th>feat_0007</th>\n",
       "      <th>feat_0008</th>\n",
       "      <th>feat_0009</th>\n",
       "      <th>...</th>\n",
       "      <th>feat_4990</th>\n",
       "      <th>feat_4991</th>\n",
       "      <th>feat_4992</th>\n",
       "      <th>feat_4993</th>\n",
       "      <th>feat_4994</th>\n",
       "      <th>feat_4995</th>\n",
       "      <th>feat_4996</th>\n",
       "      <th>feat_4997</th>\n",
       "      <th>feat_4998</th>\n",
       "      <th>feat_4999</th>\n",
       "    </tr>\n",
       "    <tr>\n",
       "      <th>yoda</th>\n",
       "      <th></th>\n",
       "      <th></th>\n",
       "      <th></th>\n",
       "      <th></th>\n",
       "      <th></th>\n",
       "      <th></th>\n",
       "      <th></th>\n",
       "      <th></th>\n",
       "      <th></th>\n",
       "      <th></th>\n",
       "      <th></th>\n",
       "      <th></th>\n",
       "      <th></th>\n",
       "      <th></th>\n",
       "      <th></th>\n",
       "      <th></th>\n",
       "      <th></th>\n",
       "      <th></th>\n",
       "      <th></th>\n",
       "      <th></th>\n",
       "      <th></th>\n",
       "    </tr>\n",
       "  </thead>\n",
       "  <tbody>\n",
       "    <tr>\n",
       "      <th>7</th>\n",
       "      <td>-2.868435</td>\n",
       "      <td>0.298673</td>\n",
       "      <td>0.298632</td>\n",
       "      <td>0.629550</td>\n",
       "      <td>-0.911358</td>\n",
       "      <td>0.064509</td>\n",
       "      <td>-1.572987</td>\n",
       "      <td>-1.132507</td>\n",
       "      <td>-1.030408</td>\n",
       "      <td>-0.237711</td>\n",
       "      <td>...</td>\n",
       "      <td>-0.836410</td>\n",
       "      <td>1.413352</td>\n",
       "      <td>0.774557</td>\n",
       "      <td>1.295665</td>\n",
       "      <td>-0.193203</td>\n",
       "      <td>-0.763113</td>\n",
       "      <td>-1.058454</td>\n",
       "      <td>-3.180881</td>\n",
       "      <td>0.161345</td>\n",
       "      <td>0.450484</td>\n",
       "    </tr>\n",
       "    <tr>\n",
       "      <th>23</th>\n",
       "      <td>2.575924</td>\n",
       "      <td>1.460673</td>\n",
       "      <td>1.138399</td>\n",
       "      <td>-0.449900</td>\n",
       "      <td>-0.352072</td>\n",
       "      <td>1.599116</td>\n",
       "      <td>0.312269</td>\n",
       "      <td>0.743898</td>\n",
       "      <td>-0.351476</td>\n",
       "      <td>0.713952</td>\n",
       "      <td>...</td>\n",
       "      <td>-0.204572</td>\n",
       "      <td>-0.412545</td>\n",
       "      <td>1.354626</td>\n",
       "      <td>-1.751579</td>\n",
       "      <td>-1.291017</td>\n",
       "      <td>1.034185</td>\n",
       "      <td>-0.511159</td>\n",
       "      <td>-0.142106</td>\n",
       "      <td>-1.243198</td>\n",
       "      <td>0.240285</td>\n",
       "    </tr>\n",
       "    <tr>\n",
       "      <th>35</th>\n",
       "      <td>-2.470595</td>\n",
       "      <td>-0.452331</td>\n",
       "      <td>0.424469</td>\n",
       "      <td>-1.237926</td>\n",
       "      <td>-1.369972</td>\n",
       "      <td>0.930915</td>\n",
       "      <td>1.729998</td>\n",
       "      <td>-0.334317</td>\n",
       "      <td>0.054820</td>\n",
       "      <td>-1.297261</td>\n",
       "      <td>...</td>\n",
       "      <td>-0.529217</td>\n",
       "      <td>-1.038827</td>\n",
       "      <td>2.261175</td>\n",
       "      <td>-0.795463</td>\n",
       "      <td>-0.770396</td>\n",
       "      <td>-0.290951</td>\n",
       "      <td>1.216898</td>\n",
       "      <td>-1.015875</td>\n",
       "      <td>0.662981</td>\n",
       "      <td>0.641607</td>\n",
       "    </tr>\n",
       "    <tr>\n",
       "      <th>46</th>\n",
       "      <td>-3.639729</td>\n",
       "      <td>-0.342975</td>\n",
       "      <td>-2.192434</td>\n",
       "      <td>-1.409914</td>\n",
       "      <td>-0.963135</td>\n",
       "      <td>0.999228</td>\n",
       "      <td>1.330254</td>\n",
       "      <td>0.313120</td>\n",
       "      <td>0.661098</td>\n",
       "      <td>-0.963805</td>\n",
       "      <td>...</td>\n",
       "      <td>0.522469</td>\n",
       "      <td>1.321842</td>\n",
       "      <td>0.172951</td>\n",
       "      <td>1.486538</td>\n",
       "      <td>-1.402303</td>\n",
       "      <td>-0.238070</td>\n",
       "      <td>0.306881</td>\n",
       "      <td>-0.292868</td>\n",
       "      <td>1.074286</td>\n",
       "      <td>-0.729741</td>\n",
       "    </tr>\n",
       "    <tr>\n",
       "      <th>64</th>\n",
       "      <td>-1.895820</td>\n",
       "      <td>-0.936713</td>\n",
       "      <td>-0.251788</td>\n",
       "      <td>-0.281165</td>\n",
       "      <td>0.638217</td>\n",
       "      <td>0.375981</td>\n",
       "      <td>-1.155577</td>\n",
       "      <td>-0.692148</td>\n",
       "      <td>0.078955</td>\n",
       "      <td>0.409727</td>\n",
       "      <td>...</td>\n",
       "      <td>1.804942</td>\n",
       "      <td>1.202792</td>\n",
       "      <td>0.221495</td>\n",
       "      <td>0.333573</td>\n",
       "      <td>0.707865</td>\n",
       "      <td>1.297714</td>\n",
       "      <td>0.297444</td>\n",
       "      <td>-0.847089</td>\n",
       "      <td>0.891023</td>\n",
       "      <td>-0.430971</td>\n",
       "    </tr>\n",
       "  </tbody>\n",
       "</table>\n",
       "<p>5 rows × 5000 columns</p>\n",
       "</div>"
      ],
      "text/plain": [
       "      feat_0000  feat_0001  feat_0002  feat_0003  feat_0004  feat_0005  \\\n",
       "yoda                                                                     \n",
       "7     -2.868435   0.298673   0.298632   0.629550  -0.911358   0.064509   \n",
       "23     2.575924   1.460673   1.138399  -0.449900  -0.352072   1.599116   \n",
       "35    -2.470595  -0.452331   0.424469  -1.237926  -1.369972   0.930915   \n",
       "46    -3.639729  -0.342975  -2.192434  -1.409914  -0.963135   0.999228   \n",
       "64    -1.895820  -0.936713  -0.251788  -0.281165   0.638217   0.375981   \n",
       "\n",
       "      feat_0006  feat_0007  feat_0008  feat_0009    ...      feat_4990  \\\n",
       "yoda                                                ...                  \n",
       "7     -1.572987  -1.132507  -1.030408  -0.237711    ...      -0.836410   \n",
       "23     0.312269   0.743898  -0.351476   0.713952    ...      -0.204572   \n",
       "35     1.729998  -0.334317   0.054820  -1.297261    ...      -0.529217   \n",
       "46     1.330254   0.313120   0.661098  -0.963805    ...       0.522469   \n",
       "64    -1.155577  -0.692148   0.078955   0.409727    ...       1.804942   \n",
       "\n",
       "      feat_4991  feat_4992  feat_4993  feat_4994  feat_4995  feat_4996  \\\n",
       "yoda                                                                     \n",
       "7      1.413352   0.774557   1.295665  -0.193203  -0.763113  -1.058454   \n",
       "23    -0.412545   1.354626  -1.751579  -1.291017   1.034185  -0.511159   \n",
       "35    -1.038827   2.261175  -0.795463  -0.770396  -0.290951   1.216898   \n",
       "46     1.321842   0.172951   1.486538  -1.402303  -0.238070   0.306881   \n",
       "64     1.202792   0.221495   0.333573   0.707865   1.297714   0.297444   \n",
       "\n",
       "      feat_4997  feat_4998  feat_4999  \n",
       "yoda                                   \n",
       "7     -3.180881   0.161345   0.450484  \n",
       "23    -0.142106  -1.243198   0.240285  \n",
       "35    -1.015875   0.662981   0.641607  \n",
       "46    -0.292868   1.074286  -0.729741  \n",
       "64    -0.847089   0.891023  -0.430971  \n",
       "\n",
       "[5 rows x 5000 columns]"
      ]
     },
     "execution_count": 9,
     "metadata": {},
     "output_type": "execute_result"
    }
   ],
   "source": [
    "feat_df_22000.head()"
   ]
  }
 ],
 "metadata": {
  "kernelspec": {
   "display_name": "Python 3",
   "language": "python",
   "name": "python3"
  },
  "language_info": {
   "codemirror_mode": {
    "name": "ipython",
    "version": 3
   },
   "file_extension": ".py",
   "mimetype": "text/x-python",
   "name": "python",
   "nbconvert_exporter": "python",
   "pygments_lexer": "ipython3",
   "version": "3.6.0"
  }
 },
 "nbformat": 4,
 "nbformat_minor": 2
}
